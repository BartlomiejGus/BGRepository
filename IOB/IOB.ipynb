{
  "cells": [
    {
      "cell_type": "markdown",
      "metadata": {
        "id": "hHVKymYJZ1Bu"
      },
      "source": [
        "Dab czy sosna? Projekt IOB, Wykonali: PW, Bartłomiej Guś, dla oryginalnych zdjęć"
      ]
    },
    {
      "cell_type": "code",
      "execution_count": null,
      "metadata": {
        "colab": {
          "base_uri": "https://localhost:8080/"
        },
        "id": "8fXFK3D_ZyEk",
        "outputId": "67cddffc-8ac4-4e90-a2db-f399edf986ab"
      },
      "outputs": [],
      "source": [
        "import os\n",
        "import matplotlib.pyplot as plt\n",
        "import numpy as np\n",
        "\n",
        "#Dostanie sie do drive z zdjeciami\n",
        "from google.colab import drive\n",
        "drive.mount('/content/drive/')"
      ]
    },
    {
      "cell_type": "code",
      "execution_count": null,
      "metadata": {
        "id": "zPhC8GZBaALZ"
      },
      "outputs": [],
      "source": [
        "#Okreslenie podzialu na zbiory uczacy, walidujacy i testowy\n",
        "\n",
        "ilosc_zbior_uczacy = 0.7\n",
        "ilosc_zbior_walidujacy = 0.15\n",
        "ilosc_zbior_testowy = 0.15"
      ]
    },
    {
      "cell_type": "code",
      "execution_count": null,
      "metadata": {
        "colab": {
          "base_uri": "https://localhost:8080/"
        },
        "id": "mlwoiDZAaBxW",
        "outputId": "070a02ac-7d4e-4409-a023-ac96aa830ae8"
      },
      "outputs": [],
      "source": [
        "#Zliczanie zdjec debu\n",
        "path_dab = \"/content/drive/MyDrive/Colab Notebooks/dab2/\"\n",
        "\n",
        "lista_zdjec_dab = os.listdir(path_dab)\n",
        "print(\"Liczba zdjec debu:\", len(lista_zdjec_dab))\n",
        "liczba_zdjec_debow = len(lista_zdjec_dab)"
      ]
    },
    {
      "cell_type": "code",
      "execution_count": null,
      "metadata": {
        "colab": {
          "base_uri": "https://localhost:8080/",
          "height": 1000
        },
        "id": "mtVTO7_tadg4",
        "outputId": "c50571d8-93e2-44b6-b0d2-2f0f2a993711"
      },
      "outputs": [],
      "source": [
        "#Dodawanie zdjec do odpowiednich zbiorow uczacego, walidujacego i testowego dla debu\n",
        "\n",
        "dab_zbior_uczacy = []\n",
        "\n",
        "#Dodanie do zbioru_uczacego dab\n",
        "\n",
        "liczba_zdjec_debow_w_zbiorze_uczacym = 0\n",
        "\n",
        "for aktualny_plik_uczacy in lista_zdjec_dab:\n",
        "\n",
        "  path_aktualnie_dodawane_zdjecie = path_dab + aktualny_plik_uczacy\n",
        "  print(path_aktualnie_dodawane_zdjecie)\n",
        "  data = plt.imread(path_aktualnie_dodawane_zdjecie)\n",
        "  dab_zbior_uczacy.append(data.copy())\n",
        "\n",
        "  liczba_zdjec_debow_w_zbiorze_uczacym += 1\n",
        "\n",
        "  if liczba_zdjec_debow_w_zbiorze_uczacym >= ilosc_zbior_uczacy*liczba_zdjec_debow:\n",
        "    break\n",
        "\n",
        "# print(\"Ostatni dodany folder:\", aktualny_folder_uczacy)\n",
        "# print(\"Ostatni dodane zdjecie:\",aktualny_plik_uczacy_2)\n",
        "# print(\"Liczba dodanych zdjec do zbioru uczacego:\", liczba_zdjec_debow_w_zbiorze_uczacym)\n",
        "\n",
        "dab_zbior_uczacy = np.asarray(dab_zbior_uczacy)\n",
        "\n",
        "#Wyswietlenie przykladowego zdjecia:\n",
        "plt.imshow(dab_zbior_uczacy[0])\n",
        "plt.show()"
      ]
    },
    {
      "cell_type": "code",
      "execution_count": null,
      "metadata": {
        "colab": {
          "base_uri": "https://localhost:8080/",
          "height": 512
        },
        "id": "yaJq5psXb1Wn",
        "outputId": "659ecbb1-0753-43c6-d796-87b1c12608ee"
      },
      "outputs": [],
      "source": [
        "#Dodanie do zbioru walidującego dab\n",
        "\n",
        "dab_zbior_walidujacy = []\n",
        "\n",
        "index_ostatniego_pliku_dodanego = lista_zdjec_dab.index(aktualny_plik_uczacy)\n",
        "\n",
        "liczba_zdjec_debow_w_zbiorze_walidujacym = 0\n",
        "\n",
        "for aktualny_plik_walidujacy in lista_zdjec_dab[index_ostatniego_pliku_dodanego+1:len(lista_zdjec_dab)]:\n",
        "\n",
        "  path_aktualnie_dodawane_zdjecie = path_dab + aktualny_plik_walidujacy\n",
        "  print(path_aktualnie_dodawane_zdjecie)\n",
        "  data = plt.imread(path_aktualnie_dodawane_zdjecie)\n",
        "  dab_zbior_walidujacy.append(data.copy())\n",
        "\n",
        "  liczba_zdjec_debow_w_zbiorze_walidujacym += 1\n",
        "\n",
        "  if liczba_zdjec_debow_w_zbiorze_walidujacym >= ilosc_zbior_walidujacy*liczba_zdjec_debow:\n",
        "    break\n",
        "\n",
        "# print(\"Ostatni dodany folder:\", aktualny_folder_uczacy)\n",
        "# print(\"Ostatni dodane zdjecie:\",aktualny_plik_uczacy_2)\n",
        "# print(\"Liczba dodanych zdjec do zbioru uczacego:\", liczba_zdjec_debow_w_zbiorze_uczacym)\n",
        "\n",
        "dab_zbior_walidujacy = np.asarray(dab_zbior_walidujacy)\n",
        "\n",
        "#Wyswietlenie przykladowego zdjecia:\n",
        "plt.imshow(dab_zbior_walidujacy[0])\n",
        "plt.show()\n"
      ]
    },
    {
      "cell_type": "code",
      "execution_count": null,
      "metadata": {
        "colab": {
          "base_uri": "https://localhost:8080/",
          "height": 478
        },
        "id": "e5rc-tFccOI_",
        "outputId": "c3e52fa3-d371-48d6-c058-eb032dadd86b"
      },
      "outputs": [],
      "source": [
        "#Dodanie do zbioru testowego dab:\n",
        "\n",
        "dab_zbior_testowy = []\n",
        "\n",
        "index_ostatniego_pliku_dodanego = lista_zdjec_dab.index(aktualny_plik_walidujacy)\n",
        "\n",
        "liczba_zdjec_debow_w_zbiorze_testowym = 0\n",
        "\n",
        "for aktualny_plik_testowy in lista_zdjec_dab[index_ostatniego_pliku_dodanego+1:len(lista_zdjec_dab)]:\n",
        "\n",
        "  path_aktualnie_dodawane_zdjecie = path_dab + aktualny_plik_testowy\n",
        "  print(path_aktualnie_dodawane_zdjecie)\n",
        "  data = plt.imread(path_aktualnie_dodawane_zdjecie)\n",
        "  dab_zbior_testowy.append(data.copy())\n",
        "\n",
        "  liczba_zdjec_debow_w_zbiorze_testowym += 1\n",
        "\n",
        "# print(\"Ostatni dodany folder:\", aktualny_folder_uczacy)\n",
        "# print(\"Ostatni dodane zdjecie:\",aktualny_plik_uczacy_2)\n",
        "# print(\"Liczba dodanych zdjec do zbioru uczacego:\", liczba_zdjec_debow_w_zbiorze_uczacym)\n",
        "\n",
        "dab_zbior_testowy = np.asarray(dab_zbior_testowy)\n",
        "\n",
        "#Wyswietlenie przykladowego zdjecia:\n",
        "plt.imshow(dab_zbior_testowy[0])\n",
        "plt.show()\n"
      ]
    },
    {
      "cell_type": "code",
      "execution_count": null,
      "metadata": {
        "colab": {
          "base_uri": "https://localhost:8080/"
        },
        "id": "KJN_j9WPdWG3",
        "outputId": "133c3c86-6574-4513-f2c1-f48c44e56916"
      },
      "outputs": [],
      "source": [
        "# Faktyczny podzial dab\n",
        "\n",
        "print(\"Liczba zdjec w zbiorze uczacym:\", liczba_zdjec_debow_w_zbiorze_uczacym)\n",
        "print(\"Liczba zdjec w zbiorze walidujacym:\", liczba_zdjec_debow_w_zbiorze_walidujacym)\n",
        "print(\"Liczba zdjec w zbiorze testowym:\", liczba_zdjec_debow_w_zbiorze_testowym)\n",
        "print(\"W sumie zdjec:\", liczba_zdjec_debow_w_zbiorze_uczacym + liczba_zdjec_debow_w_zbiorze_walidujacym + liczba_zdjec_debow_w_zbiorze_testowym)\n",
        "print(\"Jaki procent w zbiorze uczacym:\", liczba_zdjec_debow_w_zbiorze_uczacym/liczba_zdjec_debow*100)\n",
        "print(\"Jaki procent w zbiorze walidujacym:\", liczba_zdjec_debow_w_zbiorze_walidujacym/liczba_zdjec_debow*100)\n",
        "print(\"Jaki procent w zbiorze testowym:\", liczba_zdjec_debow_w_zbiorze_testowym/liczba_zdjec_debow*100)"
      ]
    },
    {
      "cell_type": "code",
      "execution_count": null,
      "metadata": {
        "colab": {
          "base_uri": "https://localhost:8080/"
        },
        "id": "Y_fmH02TeBD0",
        "outputId": "8f66c33a-8551-4a72-aaa1-91fec1aed821"
      },
      "outputs": [],
      "source": [
        "#Zliczanie zdjec sosna\n",
        "path_sosna = \"/content/drive/MyDrive/Colab Notebooks/sosna2/\"\n",
        "\n",
        "lista_zdjec_sosna = os.listdir(path_sosna)\n",
        "print(\"Liczba zdjec sosny:\", len(lista_zdjec_sosna))\n",
        "liczba_zdjec_sosny = len(lista_zdjec_sosna)"
      ]
    },
    {
      "cell_type": "code",
      "execution_count": null,
      "metadata": {
        "colab": {
          "base_uri": "https://localhost:8080/",
          "height": 1000
        },
        "id": "SVYY2zUIeTwY",
        "outputId": "b48659df-0f0a-4b38-c33f-4fa3c806fcea"
      },
      "outputs": [],
      "source": [
        "#Dodawanie zdjec do odpowiednich zbiorow uczacego, walidujacego i testowego dla sosny\n",
        "\n",
        "sosna_zbior_uczacy = []\n",
        "\n",
        "#Dodanie do zbioru_uczacego sosna\n",
        "\n",
        "liczba_zdjec_sosny_w_zbiorze_uczacym = 0\n",
        "\n",
        "for aktualny_plik_uczacy in lista_zdjec_sosna:\n",
        "\n",
        "  path_aktualnie_dodawane_zdjecie = path_sosna + aktualny_plik_uczacy\n",
        "  print(path_aktualnie_dodawane_zdjecie)\n",
        "  data = plt.imread(path_aktualnie_dodawane_zdjecie)\n",
        "  sosna_zbior_uczacy.append(data.copy())\n",
        "\n",
        "  liczba_zdjec_sosny_w_zbiorze_uczacym += 1\n",
        "\n",
        "  if liczba_zdjec_sosny_w_zbiorze_uczacym >= ilosc_zbior_uczacy*liczba_zdjec_sosny:\n",
        "    break\n",
        "\n",
        "# print(\"Ostatni dodany folder:\", aktualny_folder_uczacy)\n",
        "# print(\"Ostatni dodane zdjecie:\",aktualny_plik_uczacy_2)\n",
        "# print(\"Liczba dodanych zdjec do zbioru uczacego:\", liczba_zdjec_debow_w_zbiorze_uczacym)\n",
        "\n",
        "sosna_zbior_uczacy = np.asarray(sosna_zbior_uczacy)\n",
        "\n",
        "#Wyswietlenie przykladowego zdjecia:\n",
        "plt.imshow(sosna_zbior_uczacy[0])\n",
        "plt.show()"
      ]
    },
    {
      "cell_type": "code",
      "execution_count": null,
      "metadata": {
        "colab": {
          "base_uri": "https://localhost:8080/",
          "height": 564
        },
        "id": "m2rGSTXPevwG",
        "outputId": "35ea89f4-461e-45b2-adf0-ea40e0817572"
      },
      "outputs": [],
      "source": [
        "#Dodanie do zbioru walidującego sosna\n",
        "\n",
        "sosna_zbior_walidujacy = []\n",
        "\n",
        "index_ostatniego_pliku_dodanego = lista_zdjec_sosna.index(aktualny_plik_uczacy)\n",
        "\n",
        "liczba_zdjec_sosny_w_zbiorze_walidujacym = 0\n",
        "\n",
        "for aktualny_plik_walidujacy in lista_zdjec_sosna[index_ostatniego_pliku_dodanego+1:len(lista_zdjec_sosna)]:\n",
        "\n",
        "  path_aktualnie_dodawane_zdjecie = path_sosna + aktualny_plik_walidujacy\n",
        "  print(path_aktualnie_dodawane_zdjecie)\n",
        "  data = plt.imread(path_aktualnie_dodawane_zdjecie)\n",
        "  sosna_zbior_walidujacy.append(data.copy())\n",
        "\n",
        "  liczba_zdjec_sosny_w_zbiorze_walidujacym += 1\n",
        "\n",
        "  if liczba_zdjec_sosny_w_zbiorze_walidujacym >= ilosc_zbior_walidujacy*liczba_zdjec_sosny:\n",
        "    break\n",
        "\n",
        "# print(\"Ostatni dodany folder:\", aktualny_folder_uczacy)\n",
        "# print(\"Ostatni dodane zdjecie:\",aktualny_plik_uczacy_2)\n",
        "# print(\"Liczba dodanych zdjec do zbioru uczacego:\", liczba_zdjec_debow_w_zbiorze_uczacym)\n",
        "\n",
        "sosna_zbior_walidujacy = np.asarray(sosna_zbior_walidujacy)\n",
        "\n",
        "#Wyswietlenie przykladowego zdjecia:\n",
        "plt.imshow(sosna_zbior_walidujacy[0])\n",
        "plt.show()"
      ]
    },
    {
      "cell_type": "code",
      "execution_count": null,
      "metadata": {
        "colab": {
          "base_uri": "https://localhost:8080/",
          "height": 546
        },
        "id": "PYae4kAJfeG_",
        "outputId": "0cbbc202-1e90-4f48-9ae8-13489ba8581d"
      },
      "outputs": [],
      "source": [
        "#Dodanie do zbioru testowego sosna\n",
        "\n",
        "sosna_zbior_testowy = []\n",
        "\n",
        "index_ostatniego_pliku_dodanego = lista_zdjec_sosna.index(aktualny_plik_walidujacy)\n",
        "\n",
        "liczba_zdjec_sosny_w_zbiorze_testowym = 0\n",
        "\n",
        "for aktualny_plik_testowy in lista_zdjec_sosna[index_ostatniego_pliku_dodanego+1:len(lista_zdjec_sosna)]:\n",
        "\n",
        "  path_aktualnie_dodawane_zdjecie = path_sosna + aktualny_plik_testowy\n",
        "  print(path_aktualnie_dodawane_zdjecie)\n",
        "  data = plt.imread(path_aktualnie_dodawane_zdjecie)\n",
        "  sosna_zbior_testowy.append(data.copy())\n",
        "\n",
        "  liczba_zdjec_sosny_w_zbiorze_testowym += 1\n",
        "\n",
        "# print(\"Ostatni dodany folder:\", aktualny_folder_uczacy)\n",
        "# print(\"Ostatni dodane zdjecie:\",aktualny_plik_uczacy_2)\n",
        "# print(\"Liczba dodanych zdjec do zbioru uczacego:\", liczba_zdjec_debow_w_zbiorze_uczacym)\n",
        "\n",
        "sosna_zbior_testowy = np.asarray(dab_zbior_testowy)\n",
        "\n",
        "#Wyswietlenie przykladowego zdjecia:\n",
        "plt.imshow(sosna_zbior_testowy[0])\n",
        "plt.show()"
      ]
    },
    {
      "cell_type": "code",
      "execution_count": null,
      "metadata": {
        "colab": {
          "base_uri": "https://localhost:8080/"
        },
        "id": "JUkNT7aogDnn",
        "outputId": "07f390ae-95cd-4c2d-84db-f216741dd9be"
      },
      "outputs": [],
      "source": [
        "# Faktyczny podzial sosna\n",
        "\n",
        "print(\"Liczba zdjec w zbiorze uczacym:\", liczba_zdjec_sosny_w_zbiorze_uczacym)\n",
        "print(\"Liczba zdjec w zbiorze walidujacym:\", liczba_zdjec_sosny_w_zbiorze_walidujacym)\n",
        "print(\"Liczba zdjec w zbiorze testowym:\", liczba_zdjec_sosny_w_zbiorze_testowym)\n",
        "print(\"W sumie zdjec:\", liczba_zdjec_sosny_w_zbiorze_uczacym + liczba_zdjec_sosny_w_zbiorze_walidujacym + liczba_zdjec_sosny_w_zbiorze_testowym)\n",
        "print(\"Jaki procent w zbiorze uczacym:\", liczba_zdjec_sosny_w_zbiorze_uczacym/liczba_zdjec_sosny*100)\n",
        "print(\"Jaki procent w zbiorze walidujacym:\", liczba_zdjec_sosny_w_zbiorze_walidujacym/liczba_zdjec_sosny*100)\n",
        "print(\"Jaki procent w zbiorze testowym:\", liczba_zdjec_sosny_w_zbiorze_testowym/liczba_zdjec_sosny*100)"
      ]
    },
    {
      "cell_type": "code",
      "execution_count": null,
      "metadata": {
        "colab": {
          "base_uri": "https://localhost:8080/"
        },
        "id": "c8QfCJnggSfn",
        "outputId": "f53ef4f0-5301-4c61-e1a4-47b0aaef53f0"
      },
      "outputs": [],
      "source": [
        "#Przygotowanie do nauki modelu\n",
        "\n",
        "import tensorflow as tf\n",
        "\n",
        "y_dab_uczacy = [0 for i in range (dab_zbior_uczacy.shape[0])]\n",
        "y_dab_walidujacy = [0 for i in range (dab_zbior_walidujacy.shape[0])]\n",
        "y_dab_testowy = [0 for i in range (dab_zbior_testowy.shape[0])]\n",
        "\n",
        "y_sosna_uczacy = [1 for i in range (sosna_zbior_uczacy.shape[0])]\n",
        "y_sosna_walidujacy = [1 for i in range (sosna_zbior_walidujacy.shape[0])]\n",
        "y_sosna_testowy = [1 for i in range (sosna_zbior_testowy.shape[0])]\n",
        "\n",
        "zbior_uczacy = [dab_zbior_uczacy,sosna_zbior_uczacy]\n",
        "zbior_uczacy = [item for podlista in zbior_uczacy for item in podlista]\n",
        "zbior_uczacy = np.asarray(zbior_uczacy)\n",
        "\n",
        "y_zbior_uczacy = [y_dab_uczacy,y_sosna_uczacy]\n",
        "y_zbior_uczacy = [item for podlista in y_zbior_uczacy for item in podlista]\n",
        "\n",
        "zbior_walidujacy = [dab_zbior_walidujacy,sosna_zbior_walidujacy]\n",
        "zbior_walidujacy = [item for podlista in zbior_walidujacy for item in podlista]\n",
        "zbior_walidujacy = np.asarray(zbior_walidujacy)\n",
        "\n",
        "y_zbior_walidujacy = [y_dab_walidujacy,y_sosna_walidujacy]\n",
        "y_zbior_walidujacy = [item for podlista in y_zbior_walidujacy for item in podlista]\n",
        "\n",
        "zbior_testowy = [dab_zbior_testowy,sosna_zbior_testowy]\n",
        "zbior_testowy = [item for podlista in zbior_testowy for item in podlista]\n",
        "zbior_testowy = np.asarray(zbior_testowy)\n",
        "\n",
        "y_zbior_testowy = [y_dab_testowy,y_sosna_testowy]\n",
        "y_zbior_testowy = [item for podlista in y_zbior_testowy for item in podlista]\n",
        "\n",
        "\n",
        "#Zamiana na kategorie\n",
        "y_zbior_uczacy_one_hot = tf.keras.utils.to_categorical(y_zbior_uczacy, 2)\n",
        "y_zbior_walidujacy_one_hot = tf.keras.utils.to_categorical(y_zbior_walidujacy, 2)\n",
        "y_zbior_testowy_one_hot = tf.keras.utils.to_categorical(y_zbior_testowy, 2)\n",
        "\n",
        "#Sprawdzenie\n",
        "print(\"Wartość zbioru y_zbior_uczacy_one_hot[0]\",y_zbior_uczacy_one_hot[0])\n",
        "\n",
        "#Przeskalowanie do zakresu <0,1>\n",
        "zbior_uczacy = zbior_uczacy/255\n",
        "zbior_walidujacy = zbior_walidujacy/255\n",
        "zbior_testowy = zbior_testowy/255\n",
        "\n",
        "#Sprawdzenie\n",
        "print(\"Wartość zbioru zbior_uczacy[0]\",zbior_uczacy[0])"
      ]
    },
    {
      "cell_type": "code",
      "execution_count": null,
      "metadata": {
        "id": "dDqvOvYpgl4P"
      },
      "outputs": [],
      "source": [
        "from IPython.display import clear_output\n",
        "\n",
        "co_ile_epok_mam_odswiezac = 3\n",
        "\n",
        "#Rysunki w trakcie nauki\n",
        "class Rysunki_w_trakcie_nauki(tf.keras.callbacks.Callback):\n",
        "    \n",
        "    def on_train_begin(self, logs={}):\n",
        "        self.losses = []\n",
        "        self.acc = []\n",
        "        self.losses_val = []\n",
        "        self.acc_val = []\n",
        "    \n",
        "    # Ta funkcja wykonuje się tylko na końcu\n",
        "    def on_epoch_end(self, epoch, logs={}):\n",
        "\n",
        "        loss = logs.get('loss')\n",
        "        accuracy = logs.get('accuracy')\n",
        "        loss_val = logs.get('val_loss')\n",
        "        accuracy_val = logs.get('val_accuracy')\n",
        "\n",
        "          \n",
        "        # self.logs.append(logs)\n",
        "        self.losses.append(loss)\n",
        "        self.acc.append(accuracy)\n",
        "        self.losses_val.append(loss_val)\n",
        "        self.acc_val.append(accuracy_val)\n",
        "        \n",
        "        if epoch > 0 and epoch%co_ile_epok_mam_odswiezac==0:\n",
        "\n",
        "            clear_output(wait=True)\n",
        "            N = np.arange(0, len(self.losses))\n",
        "\n",
        "            plt.style.use(\"seaborn\")\n",
        "            \n",
        "            fig, ax = plt.subplots(2,2, figsize=(20,8))\n",
        "            ax[0,0].plot(N, self.losses)\n",
        "            ax[0,0].set_title(\"Loss - zbiór uczący\")\n",
        "            ax[0,0].set_ylabel(\"Loss\")\n",
        "\n",
        "            ax[0,1].plot(N, self.acc)\n",
        "            ax[0,1].set_title(\"Accuracy - zbiór uczący\")\n",
        "            ax[0,1].set_ylabel(\"Accuracy\")\n",
        "\n",
        "            ax[1,0].plot(N, self.losses_val)\n",
        "            ax[1,0].set_title(\"Loss - zbiór walidujący\")\n",
        "            ax[1,0].set_ylabel(\"Loss\")\n",
        "\n",
        "            ax[1,1].plot(N, self.acc_val)\n",
        "            ax[1,1].set_title(\"Accuracy - zbiór walidujący\")\n",
        "            ax[1,1].set_ylabel(\"Accuracy\")\n",
        "\n",
        "            \n",
        "            plt.show()"
      ]
    },
    {
      "cell_type": "code",
      "execution_count": null,
      "metadata": {
        "id": "5IKe1X9wgrp9"
      },
      "outputs": [],
      "source": [
        "# Stworzenie modelu, architektura LeNet-5\n",
        "# import visualkeras\n",
        "\n",
        "model = tf.keras.models.Sequential()\n",
        "model.add(tf.keras.layers.Conv2D(6, kernel_size=(5, 5), activation='relu', padding='same', input_shape=(1024, 768, 3)))\n",
        "\n",
        "model.add(tf.keras.layers.AveragePooling2D((2, 2), strides=(2, 2))) # w oryginale average pooling\n",
        "\n",
        "model.add(tf.keras.layers.Conv2D(16, kernel_size=(5, 5), activation='relu', padding='valid'))\n",
        "model.add(tf.keras.layers.AveragePooling2D((2, 2), strides=(2, 2)))\n",
        "\n",
        "model.add(tf.keras.layers.Conv2D(120, kernel_size=(5, 5), strides=(1, 1), activation='relu', padding='valid'))\n",
        "\n",
        "model.add(tf.keras.layers.Flatten())\n",
        "model.add(tf.keras.layers.Dense(50, activation='relu'))\n",
        "\n",
        "model.add(tf.keras.layers.Dense(2, activation='softmax'))\n",
        "\n",
        "model.compile(optimizer = \"Adamax\", loss = \"binary_crossentropy\", metrics = [\"accuracy\"])\n",
        "\n",
        "# visualkeras.layered_view(model,legend = True)"
      ]
    },
    {
      "cell_type": "code",
      "execution_count": null,
      "metadata": {
        "colab": {
          "base_uri": "https://localhost:8080/"
        },
        "id": "mipC8qeWguFf",
        "outputId": "f7e6245d-506a-49f6-9455-e3eade6ac503"
      },
      "outputs": [],
      "source": [
        "# Wyswietlenie podsumowania\n",
        "\n",
        "model.summary()"
      ]
    },
    {
      "cell_type": "code",
      "execution_count": null,
      "metadata": {
        "colab": {
          "base_uri": "https://localhost:8080/",
          "height": 533
        },
        "id": "Bp72QhvEgxs8",
        "outputId": "33b20adc-79aa-441e-dc0f-76d8383113f8"
      },
      "outputs": [],
      "source": [
        "rysunki_online = Rysunki_w_trakcie_nauki()\n",
        "\n",
        "# Nauka modelu\n",
        "\n",
        "model.fit(x = zbior_uczacy, y = y_zbior_uczacy_one_hot, epochs = 10, batch_size = 20, validation_data = (zbior_walidujacy, y_zbior_walidujacy_one_hot), callbacks = [rysunki_online])"
      ]
    },
    {
      "cell_type": "code",
      "execution_count": null,
      "metadata": {
        "colab": {
          "base_uri": "https://localhost:8080/"
        },
        "id": "YHDkJV-djPex",
        "outputId": "d333c933-d956-45fb-9b7f-2853c94bafff"
      },
      "outputs": [],
      "source": [
        "# Z zbioru testowego\n",
        "\n",
        "wyniki_dla_zbioru_testowego =  model.evaluate(x = zbior_testowy, y = y_zbior_testowy_one_hot)\n",
        "print(wyniki_dla_zbioru_testowego)"
      ]
    },
    {
      "cell_type": "code",
      "execution_count": null,
      "metadata": {
        "id": "HnlGAotpg-b9"
      },
      "outputs": [],
      "source": [
        "# # Zapis modelu\n",
        "\n",
        "# model.save(\"/content/drive/MyDrive/Colab Notebooks/Modele/model_2.h5\")"
      ]
    }
  ],
  "metadata": {
    "accelerator": "GPU",
    "colab": {
      "collapsed_sections": [],
      "name": "IOB2.ipynb",
      "provenance": []
    },
    "kernelspec": {
      "display_name": "Python 3",
      "name": "python3"
    },
    "language_info": {
      "name": "python"
    }
  },
  "nbformat": 4,
  "nbformat_minor": 0
}
